{
 "cells": [
  {
   "cell_type": "code",
   "execution_count": 660,
   "metadata": {},
   "outputs": [],
   "source": [
    "import math\n",
    "import matplotlib.pyplot as plt\n",
    "import random\n",
    "import sys\n",
    "import numpy as np"
   ]
  },
  {
   "cell_type": "code",
   "execution_count": 661,
   "metadata": {},
   "outputs": [],
   "source": [
    "import math\n",
    "\n",
    "class Node:\n",
    "    \n",
    "    # Initialize node with RGB values\n",
    "    def __init__(self, r=0, g=0, b=0):\n",
    "        self.r = r\n",
    "        self.g = g  \n",
    "        self.b = b\n",
    "        self.X = None  \n",
    "        self.Y = None\n",
    "        self.Z = None\n",
    "        self.L = None\n",
    "        self.A = None\n",
    "        self.B = None\n",
    "        self.neighbors = []\n",
    "        \n",
    "    # Calculate XYZ transformation\n",
    "    def calculate_xyz(self):\n",
    "\n",
    "        var_R = (self.r / 255.0)\n",
    "        var_G = (self.g / 255.0)  \n",
    "        var_B = (self.b / 255.0)\n",
    "\n",
    "        if (var_R > 0.04045):\n",
    "            var_R = math.pow((var_R + 0.055) / 1.055, 2.4)\n",
    "        else:\n",
    "            var_R = var_R / 12.92\n",
    "\n",
    "        if (var_G > 0.04045):\n",
    "            var_G = math.pow((var_G + 0.055) / 1.055, 2.4)\n",
    "        else:\n",
    "            var_G = var_G / 12.92\n",
    "\n",
    "        if (var_B > 0.04045):\n",
    "            var_B = math.pow((var_B + 0.055) / 1.055, 2.4)\n",
    "        else:\n",
    "            var_B = var_B / 12.92\n",
    "\n",
    "        var_R *= 100\n",
    "        var_G *= 100\n",
    "        var_B *= 100\n",
    "\n",
    "        self.X = var_R * 0.4124 + var_G * 0.3576 + var_B * 0.1805 \n",
    "        self.Y = var_R * 0.2126 + var_G * 0.7152 + var_B * 0.0722\n",
    "        self.Z = var_R * 0.0193 + var_G * 0.1192 + var_B * 0.9505\n",
    "    \n",
    "    # Calculate Lab transformation\n",
    "    def calculate_lab(self):\n",
    "\n",
    "        var_X = self.X / 94.811    \n",
    "        var_Y = self.Y / 100.0\n",
    "        var_Z = self.Z / 107.304\n",
    "\n",
    "        if (var_X > 0.008856): \n",
    "            var_X = math.pow(var_X, 1/3)\n",
    "        else:\n",
    "            var_X = (7.787 * var_X) + (16 / 116)\n",
    "\n",
    "        if (var_Y > 0.008856): \n",
    "            var_Y = math.pow(var_Y, 1/3)\n",
    "        else:\n",
    "            var_Y = (7.787 * var_Y) + (16 / 116)\n",
    "\n",
    "        if (var_Z > 0.008856): \n",
    "            var_Z = math.pow(var_Z, 1/3)\n",
    "        else:\n",
    "            var_Z = (7.787 * var_Z) + (16 / 116)\n",
    "\n",
    "        self.L = (116 * var_Y) - 16\n",
    "        self.A = 500 * (var_X - var_Y)\n",
    "        self.B = 200 * (var_Y - var_Z)\n",
    "        \n",
    "    # Calculate color distance between nodes\n",
    "    def calculate_distance(self, other):\n",
    "        \n",
    "        delta_L = other.L - self.L\n",
    "        delta_A = other.A - self.A  \n",
    "        delta_B = other.B - self.B\n",
    "        \n",
    "        dist = math.sqrt(delta_L ** 2 + delta_A ** 2 + delta_B ** 2)\n",
    "        \n",
    "        return dist\n",
    "    \n",
    "    # Calculate Euclidean\n",
    "    def calculate_euclidean_distance(self, other):\n",
    "        distance = math.sqrt((self.x - other.x) ** 2 + (self.y - other.y) ** 2)\n",
    "        return distance\n",
    "        \n",
    "        "
   ]
  },
  {
   "cell_type": "code",
   "execution_count": 662,
   "metadata": {},
   "outputs": [],
   "source": [
    "# Compare node distance for nearer neighbors\n",
    "def compare_node_dist(n1, n2):\n",
    "\n",
    "    main_node = None  \n",
    "    dist1 = n1.calculate_distance(main_node)\n",
    "    dist2 = n2.calculate_distance(main_node)\n",
    "    \n",
    "    return dist1 < dist2"
   ]
  },
  {
   "cell_type": "code",
   "execution_count": 663,
   "metadata": {},
   "outputs": [],
   "source": [
    "# Compare node distance for nearer neighbors (euclidean)\n",
    "def compare_node_dist(n1, n2):\n",
    "\n",
    "    main_node = None  \n",
    "    dist1 = n1.calculate_euclidean_distance(main_node)\n",
    "    dist2 = n2.calculate_euclidean_distance(main_node)\n",
    "    \n",
    "    return dist1 < dist2"
   ]
  },
  {
   "cell_type": "code",
   "execution_count": 664,
   "metadata": {},
   "outputs": [],
   "source": [
    "# Generate ring or cicle topology\n",
    "def generate_ring_topology(nodes):\n",
    "    for i, node in enumerate(nodes):\n",
    "        angle = (2 * math.pi * i) / N\n",
    "        node.x = math.cos(angle)\n",
    "        node.y = math.sin(angle)"
   ]
  },
  {
   "cell_type": "code",
   "execution_count": 665,
   "metadata": {},
   "outputs": [],
   "source": [
    "# Generate spectacles topology\n",
    "def generate_spectacles_topology(nodes):\n",
    "    center1 = (-2, 0)\n",
    "    center2 = (0, 0)\n",
    "    center3 = (2, 0)\n",
    "    radius = 1  # Define the radius for the circles\n",
    "    i = 0\n",
    "    \n",
    "    \n",
    "    # Plot nodes left circle\n",
    "    for i in range(2 * N // 5):\n",
    "        angle = (2 * math.pi * i) / (2 * N // 5)\n",
    "        x = center1[0] + radius * math.cos(angle)\n",
    "        y = center1[1] + radius * math.sin(angle)\n",
    "        nodes[i].x = x\n",
    "        nodes[i].y = y\n",
    "    #print(i)\n",
    "\n",
    "    # Plot node semi-circle\n",
    "    for i in range(2 * N // 5, 3 * N // 5):\n",
    "        angle = (math.pi / (N // 5)) * i\n",
    "        #angle = (math.pi) \n",
    "        x = center2[0] + radius * math.cos(angle)\n",
    "        y = center2[1] + radius * math.sin(angle)\n",
    "        nodes[i].x = x\n",
    "        nodes[i].y = y\n",
    "    #print(i)\n",
    "\n",
    "    # Plot nodes right circle\n",
    "    for i in range(3 * N // 5, N):\n",
    "        angle = (2 * math.pi * (i - 3 * N // 5)) / (2 * N // 5)\n",
    "        x = center3[0] + radius * math.cos(angle)\n",
    "        y = center3[1] + radius * math.sin(angle)\n",
    "        nodes[i].x = x\n",
    "        nodes[i].y = y\n",
    "    #print(i)\n",
    "        \n",
    "    # Plot nodes\n",
    "    plt.figure(figsize=(20, 20)) \n",
    "    plt.axis('equal')\n",
    "    plt.axis('off')\n",
    "    \n",
    "    #for n in nodes:\n",
    "        #plt.plot(n.x, n.y, 'ko')\n",
    "        \n",
    "    #plt.show()"
   ]
  },
  {
   "cell_type": "code",
   "execution_count": 666,
   "metadata": {},
   "outputs": [],
   "source": [
    "#generate_spectacles_topology(nodes)"
   ]
  },
  {
   "cell_type": "code",
   "execution_count": 667,
   "metadata": {},
   "outputs": [],
   "source": [
    "# Input arguments\n",
    "\n",
    "# Command-line arguments (jupyter notebook doesn't have command line)\n",
    "sys.argv = [\"R\", \"1000\", \"30\"] #R, 1000, 30\n",
    "\n",
    "topology = sys.argv[0]\n",
    "N = int(sys.argv[1])\n",
    "k = int(sys.argv[2])\n",
    "\n",
    "#topology = input(\"Enter the topology (R for Ring, S for Spectacles): \")\n",
    "#N = int(input(\"Enter the number of nodes: \"))\n",
    "#k = int(input(\"Enter the number of neighbors (k): \"))\n",
    "\n",
    "nodes = []"
   ]
  },
  {
   "cell_type": "code",
   "execution_count": 668,
   "metadata": {},
   "outputs": [],
   "source": [
    "if topology == 'R':\n",
    "    # Generate nodes\n",
    "    red_count = green_count = blue_count = N // 3\n",
    "    for i in range(N):\n",
    "        if i >= N // 3 and i < 2 * (N // 3):\n",
    "            # Green nodes\n",
    "            r = random.randint(0, 80)\n",
    "            g = random.randint(200, 255)\n",
    "            b = random.randint(0, 80)\n",
    "        elif i >= 2 * (N // 3):\n",
    "            # Blue nodes\n",
    "            r = random.randint(0, 80)\n",
    "            g = random.randint(0, 80)\n",
    "            b = random.randint(200, 255)\n",
    "        else:\n",
    "            # Red nodes\n",
    "            r = random.randint(200, 255)\n",
    "            g = random.randint(0, 80)\n",
    "            b = random.randint(0, 80)\n",
    "\n",
    "        node = Node(r, g, b)\n",
    "        nodes.append(node)\n",
    "\n",
    "    # Shuffle nodes to arrange them randomly in the ring/circle\n",
    "    random.shuffle(nodes)"
   ]
  },
  {
   "cell_type": "code",
   "execution_count": 669,
   "metadata": {},
   "outputs": [],
   "source": [
    "# Generate topology from inputs\n",
    "if topology == 'R':\n",
    "    generate_ring_topology(nodes)\n",
    "elif topology == 'S':\n",
    "    # Generate nodes\n",
    "    nodes = [Node() for _ in range(N)]\n",
    "    generate_spectacles_topology(nodes)"
   ]
  },
  {
   "cell_type": "code",
   "execution_count": 670,
   "metadata": {},
   "outputs": [],
   "source": [
    "# Initialize neighbors\n",
    "for i, node in enumerate(nodes):\n",
    "    # Determine neighbor indices\n",
    "    neighbor_indices = [j for j in range(N) if j != i]\n",
    "    # Choose k random neighbors\n",
    "    neighbors = random.sample(neighbor_indices, k)\n",
    "    # Add neighbors to node's neighbor list\n",
    "    node.neighbors = [nodes[j] for j in neighbors]\n",
    "if topology == 'R':\n",
    "    for node in nodes:\n",
    "       node.calculate_xyz()\n",
    "       node.calculate_lab()"
   ]
  },
  {
   "cell_type": "code",
   "execution_count": 671,
   "metadata": {},
   "outputs": [
    {
     "name": "stdout",
     "output_type": "stream",
     "text": [
      "Done\n",
      "Cycle 0: 3379329.494929943\n",
      "Done\n",
      "Cycle 1: 3278757.402104796\n",
      "Done\n",
      "Cycle 2: 3187949.298243496\n",
      "Done\n",
      "Cycle 3: 3085960.415627876\n",
      "Done\n",
      "Cycle 4: 2995527.810719961\n",
      "Done\n",
      "Cycle 5: 2908219.2201722097\n",
      "Done\n",
      "Cycle 6: 2813045.647368226\n",
      "Done\n",
      "Cycle 7: 2727222.764887416\n",
      "Done\n",
      "Cycle 8: 2652855.8524194225\n",
      "Done\n",
      "Cycle 9: 2561299.149033143\n",
      "Done\n",
      "Cycle 10: 2479852.9145185323\n",
      "Done\n",
      "Cycle 11: 2393299.516553321\n",
      "Done\n",
      "Cycle 12: 2318805.4137456613\n",
      "Done\n",
      "Cycle 13: 2240348.17420916\n",
      "Done\n",
      "Cycle 14: 2169817.706938578\n",
      "Done\n",
      "Cycle 15: 2100956.03808065\n",
      "Done\n",
      "Cycle 16: 2040074.398897469\n",
      "Done\n",
      "Cycle 17: 1985470.3736830398\n",
      "Done\n",
      "Cycle 18: 1931553.9811030864\n",
      "Done\n",
      "Cycle 19: 1884954.127069933\n",
      "Done\n",
      "Cycle 20: 1840769.565041647\n",
      "Done\n",
      "Cycle 21: 1805245.7126066012\n",
      "Done\n",
      "Cycle 22: 1770849.2349054608\n",
      "Done\n",
      "Cycle 23: 1736911.0958374608\n",
      "Done\n",
      "Cycle 24: 1709790.1349627269\n",
      "Done\n",
      "Cycle 25: 1685810.5658970352\n",
      "Done\n",
      "Cycle 26: 1662374.196060134\n",
      "Done\n",
      "Cycle 27: 1640413.457046894\n",
      "Done\n",
      "Cycle 28: 1621450.9190984494\n",
      "Done\n",
      "Cycle 29: 1608666.242138096\n",
      "Done\n",
      "Cycle 30: 1596244.9704282829\n",
      "Done\n",
      "Cycle 31: 1581217.8169484478\n",
      "Done\n",
      "Cycle 32: 1565465.5571422826\n",
      "Done\n",
      "Cycle 33: 1553931.1862257824\n",
      "Done\n",
      "Cycle 34: 1541129.7557147115\n",
      "Done\n",
      "Cycle 35: 1530967.022350945\n",
      "Done\n",
      "Cycle 36: 1520646.4989409114\n",
      "Done\n",
      "Cycle 37: 1512916.3051374343\n",
      "Done\n",
      "Cycle 38: 1507110.2168018026\n",
      "Done\n",
      "Cycle 39: 1500786.457839053\n",
      "Done\n"
     ]
    },
    {
     "data": {
      "image/png": "[encoded data removed]",
      "text/plain": [
       "<Figure size 432x288 with 1 Axes>"
      ]
     },
     "metadata": {
      "needs_background": "light"
     },
     "output_type": "display_data"
    },
    {
     "data": {
      "image/png": "[encoded data removed]",
      "text/plain": [
       "<Figure size 432x288 with 1 Axes>"
      ]
     },
     "metadata": {
      "needs_background": "light"
     },
     "output_type": "display_data"
    },
    {
     "data": {
      "image/png": "[encoded data removed]",
      "text/plain": [
       "<Figure size 432x288 with 1 Axes>"
      ]
     },
     "metadata": {
      "needs_background": "light"
     },
     "output_type": "display_data"
    },
    {
     "data": {
      "image/png": "[encoded data removed]",
      "text/plain": [
       "<Figure size 432x288 with 1 Axes>"
      ]
     },
     "metadata": {
      "needs_background": "light"
     },
     "output_type": "display_data"
    },
    {
     "data": {
      "image/png": "[encoded data removed]",
      "text/plain": [
       "<Figure size 432x288 with 1 Axes>"
      ]
     },
     "metadata": {
      "needs_background": "light"
     },
     "output_type": "display_data"
    },
    {
     "data": {
      "image/png": "[encoded data removed]",
      "text/plain": [
       "<Figure size 432x288 with 1 Axes>"
      ]
     },
     "metadata": {
      "needs_background": "light"
     },
     "output_type": "display_data"
    },
    {
     "data": {
      "image/png": "[encoded data removed]",
      "text/plain": [
       "<Figure size 432x288 with 1 Axes>"
      ]
     },
     "metadata": {
      "needs_background": "light"
     },
     "output_type": "display_data"
    },
    {
     "data": {
      "image/png": "[encoded data removed]",
      "text/plain": [
       "<Figure size 432x288 with 1 Axes>"
      ]
     },
     "metadata": {
      "needs_background": "light"
     },
     "output_type": "display_data"
    }
   ],
   "source": [
    "# Run cycles \n",
    "plot_cycle = 5 #5\n",
    "option = 2\n",
    "\n",
    "for cycle in range(40): #40\n",
    "\n",
    "    # Communication\n",
    "    for i in range(len(nodes)):\n",
    "        \n",
    "        n = nodes[i]\n",
    "    \n",
    "        # Choose a random neighbor\n",
    "        neighbor = random.choice(n.neighbors)\n",
    "        \n",
    "        if option == 1:\n",
    "            \n",
    "            # Option 1, Only receiving neighbor updates neighbor list\n",
    "            new_neighbors = neighbor.neighbors[:]\n",
    "            new_neighbors.append(n)\n",
    "            if topology == 'R':\n",
    "                new_neighbors.sort(key=lambda node: neighbor.calculate_distance(node))\n",
    "            elif topology == 'S':\n",
    "                new_neighbors.sort(key=lambda node: neighbor.calculate_euclidean_distance(node))\n",
    "            new_neighbors = new_neighbors[:k]\n",
    "\n",
    "            neighbor.neighbors = new_neighbors\n",
    "            \n",
    "        if option == 2:\n",
    "\n",
    "            # Option 2, Both sender and receiver nodes update neighbor lists\n",
    "            new_neighbors_n = n.neighbors[:]\n",
    "            new_neighbors_neighbor = neighbor.neighbors[:]\n",
    "\n",
    "            new_neighbors_n.append(neighbor)\n",
    "            new_neighbors_neighbor.append(n)\n",
    "\n",
    "            if topology == 'R':\n",
    "                new_neighbors_n.sort(key=lambda node: neighbor.calculate_distance(node))\n",
    "            elif topology == 'S':\n",
    "                new_neighbors_n.sort(key=lambda node: neighbor.calculate_euclidean_distance(node))\n",
    "            new_neighbors_n = new_neighbors_n[:k]\n",
    "            \n",
    "            if topology == 'R':\n",
    "                new_neighbors_neighbor.sort(key=lambda node: neighbor.calculate_distance(node))\n",
    "            elif topology == 'S':\n",
    "                new_neighbors_neighbor.sort(key=lambda node: neighbor.calculate_euclidean_distance(node))\n",
    "            new_neighbors_neighbor = new_neighbors_neighbor[:k]\n",
    "\n",
    "            n.neighbors = new_neighbors_n\n",
    "            neighbor.neighbors = new_neighbors_neighbor\n",
    "\n",
    "    if cycle % plot_cycle == 0:\n",
    "\n",
    "        # Plot nodes\n",
    "        fig, ax = plt.subplots()\n",
    "        \n",
    "        if topology == \"R\":  # Ring Topology\n",
    "            # Plot nodes and connections\n",
    "            plt.figure(figsize=(20, 20)) \n",
    "            plt.axis('equal')\n",
    "            plt.axis('off')\n",
    "\n",
    "            for n in nodes:\n",
    "                plt.plot(n.x, n.y, 'ko')\n",
    "                for neighbor in n.neighbors:\n",
    "                    plt.plot([n.x, neighbor.x], [n.y, neighbor.y], 'k-', linewidth=0.3)\n",
    "\n",
    "            ax.set(aspect='equal') \n",
    "            filename = f\"{topology}_N{N}_k{k}_{cycle}.png\"  # Adjusted filename\n",
    "            plt.savefig(filename)\n",
    "            plt.close()\n",
    "\n",
    "        elif topology == \"S\":  # Spectacles Topology\n",
    "            plt.figure(figsize=(20, 20)) \n",
    "            plt.axis('equal')\n",
    "            plt.axis('off')\n",
    "            \n",
    "            # Plot nodes\n",
    "            for n in nodes:\n",
    "                plt.plot(n.x, n.y, 'ko')\n",
    "            \n",
    "            \n",
    "            # Plot connections between two nearest nodes\n",
    "            for i, n in enumerate(nodes):\n",
    "                for neighbor in n.neighbors[0:1]:\n",
    "                    plt.plot([n.x, neighbor.x], [n.y, neighbor.y], 'k-', linewidth=0.8)\n",
    "            \n",
    "            \n",
    "            \n",
    "\n",
    "            plt.savefig(f\"{topology}_N{N}_k{k}_{cycle}.png\")\n",
    "            plt.close()\n",
    "            \n",
    "\n",
    "        \n",
    "\n",
    "        # Output neighbors \n",
    "        with open(f\"{topology}_N{N}_k{k}_{cycle}.txt\", \"w\") as f:  # Adjusted filename\n",
    "            for i in range(len(nodes)):\n",
    "                n = nodes[i]\n",
    "                f.write(f\"{i}: \")\n",
    "                for neighbor in n.neighbors:\n",
    "                    f.write(f\"{nodes.index(neighbor)} \")\n",
    "                    f.write(\"\\n\")\n",
    "\n",
    "    print(\"Done\")\n",
    "\n",
    "    # Print distance\n",
    "    total_dist = 0\n",
    "    for n in nodes:\n",
    "        for neighbor in n.neighbors:\n",
    "            if topology == 'R':\n",
    "                total_dist += n.calculate_distance(neighbor)\n",
    "            elif topology == 'S':\n",
    "                total_dist += n.calculate_euclidean_distance(neighbor)\n",
    "\n",
    "    print(f\"Cycle {cycle}: {total_dist}\")\n",
    "\n",
    "print(\"Done\")\n"
   ]
  },
  {
   "cell_type": "code",
   "execution_count": null,
   "metadata": {},
   "outputs": [],
   "source": []
  },
  {
   "cell_type": "code",
   "execution_count": null,
   "metadata": {},
   "outputs": [],
   "source": []
  },
  {
   "cell_type": "code",
   "execution_count": null,
   "metadata": {},
   "outputs": [],
   "source": []
  }
 ],
 "metadata": {
  "kernelspec": {
   "display_name": "Python 3",
   "language": "python",
   "name": "python3"
  },
  "language_info": {
   "codemirror_mode": {
    "name": "ipython",
    "version": 3
   },
   "file_extension": ".py",
   "mimetype": "text/x-python",
   "name": "python",
   "nbconvert_exporter": "python",
   "pygments_lexer": "ipython3",
   "version": "3.8.5"
  }
 },
 "nbformat": 4,
 "nbformat_minor": 4
}
